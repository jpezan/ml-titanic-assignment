{
 "cells": [
  {
   "cell_type": "markdown",
   "id": "fcedc465-2b21-46b7-8576-d7673866f275",
   "metadata": {},
   "source": [
    "### LEADERSHIP SKILLS (MSCA 31003)\n",
    "\n",
    "#### File: Assignment6\n",
    "\n",
    "#### Description: Modeling Assignment\n",
    "\n",
    "#### Author: Jacqueline Pezan\n",
    "\n",
    "#### Date: 12/04/2021\n",
    "\n",
    "#### Project Overview: \n",
    "Predict if a passenger survived in the Titanic or not."
   ]
  },
  {
   "cell_type": "markdown",
   "id": "eb471cb1-c03a-4ade-8253-fd4eafcc967d",
   "metadata": {},
   "source": [
    "#### Instructions to get full credit:\n",
    "- Understand the problem (2-3 lines)\n",
    "\n",
    "Summary: Use machine learning algorithms and variables provided, to predict if a passanger survived the Titanic. Variables will be trained and tested against the parameter \"Survived.\""
   ]
  },
  {
   "cell_type": "code",
   "execution_count": 1,
   "id": "6ba0843a-2bbb-403c-9dec-9e622de3ad7f",
   "metadata": {},
   "outputs": [],
   "source": [
    "import pandas as pd"
   ]
  },
  {
   "cell_type": "markdown",
   "id": "7241dc42-f561-49d6-ae0a-1cd1f0cb92fb",
   "metadata": {},
   "source": [
    "- Show any data cleaning that needs to be done prior to analysis"
   ]
  },
  {
   "cell_type": "code",
   "execution_count": 2,
   "id": "582803a3-034a-4171-b710-2b5b847bb34d",
   "metadata": {},
   "outputs": [
    {
     "data": {
      "text/html": [
       "<div>\n",
       "<style scoped>\n",
       "    .dataframe tbody tr th:only-of-type {\n",
       "        vertical-align: middle;\n",
       "    }\n",
       "\n",
       "    .dataframe tbody tr th {\n",
       "        vertical-align: top;\n",
       "    }\n",
       "\n",
       "    .dataframe thead th {\n",
       "        text-align: right;\n",
       "    }\n",
       "</style>\n",
       "<table border=\"1\" class=\"dataframe\">\n",
       "  <thead>\n",
       "    <tr style=\"text-align: right;\">\n",
       "      <th></th>\n",
       "      <th>PassengerId</th>\n",
       "      <th>Pclass</th>\n",
       "      <th>Name</th>\n",
       "      <th>Sex</th>\n",
       "      <th>Age</th>\n",
       "      <th>SibSp</th>\n",
       "      <th>Parch</th>\n",
       "      <th>Ticket</th>\n",
       "      <th>Fare</th>\n",
       "      <th>Cabin</th>\n",
       "      <th>Embarked</th>\n",
       "      <th>Survived</th>\n",
       "    </tr>\n",
       "  </thead>\n",
       "  <tbody>\n",
       "    <tr>\n",
       "      <th>0</th>\n",
       "      <td>1</td>\n",
       "      <td>3</td>\n",
       "      <td>Braund, Mr. Owen Harris</td>\n",
       "      <td>male</td>\n",
       "      <td>22.0</td>\n",
       "      <td>1</td>\n",
       "      <td>0</td>\n",
       "      <td>A/5 21171</td>\n",
       "      <td>7.2500</td>\n",
       "      <td>NaN</td>\n",
       "      <td>S</td>\n",
       "      <td>0</td>\n",
       "    </tr>\n",
       "    <tr>\n",
       "      <th>1</th>\n",
       "      <td>2</td>\n",
       "      <td>1</td>\n",
       "      <td>Cumings, Mrs. John Bradley (Florence Briggs Th...</td>\n",
       "      <td>female</td>\n",
       "      <td>38.0</td>\n",
       "      <td>1</td>\n",
       "      <td>0</td>\n",
       "      <td>PC 17599</td>\n",
       "      <td>71.2833</td>\n",
       "      <td>C85</td>\n",
       "      <td>C</td>\n",
       "      <td>1</td>\n",
       "    </tr>\n",
       "    <tr>\n",
       "      <th>2</th>\n",
       "      <td>3</td>\n",
       "      <td>3</td>\n",
       "      <td>Heikkinen, Miss. Laina</td>\n",
       "      <td>female</td>\n",
       "      <td>26.0</td>\n",
       "      <td>0</td>\n",
       "      <td>0</td>\n",
       "      <td>STON/O2. 3101282</td>\n",
       "      <td>7.9250</td>\n",
       "      <td>NaN</td>\n",
       "      <td>S</td>\n",
       "      <td>1</td>\n",
       "    </tr>\n",
       "    <tr>\n",
       "      <th>3</th>\n",
       "      <td>4</td>\n",
       "      <td>1</td>\n",
       "      <td>Futrelle, Mrs. Jacques Heath (Lily May Peel)</td>\n",
       "      <td>female</td>\n",
       "      <td>35.0</td>\n",
       "      <td>1</td>\n",
       "      <td>0</td>\n",
       "      <td>113803</td>\n",
       "      <td>53.1000</td>\n",
       "      <td>C123</td>\n",
       "      <td>S</td>\n",
       "      <td>1</td>\n",
       "    </tr>\n",
       "    <tr>\n",
       "      <th>4</th>\n",
       "      <td>5</td>\n",
       "      <td>3</td>\n",
       "      <td>Allen, Mr. William Henry</td>\n",
       "      <td>male</td>\n",
       "      <td>35.0</td>\n",
       "      <td>0</td>\n",
       "      <td>0</td>\n",
       "      <td>373450</td>\n",
       "      <td>8.0500</td>\n",
       "      <td>NaN</td>\n",
       "      <td>S</td>\n",
       "      <td>0</td>\n",
       "    </tr>\n",
       "  </tbody>\n",
       "</table>\n",
       "</div>"
      ],
      "text/plain": [
       "   PassengerId  Pclass                                               Name  \\\n",
       "0            1       3                            Braund, Mr. Owen Harris   \n",
       "1            2       1  Cumings, Mrs. John Bradley (Florence Briggs Th...   \n",
       "2            3       3                             Heikkinen, Miss. Laina   \n",
       "3            4       1       Futrelle, Mrs. Jacques Heath (Lily May Peel)   \n",
       "4            5       3                           Allen, Mr. William Henry   \n",
       "\n",
       "      Sex   Age  SibSp  Parch            Ticket     Fare Cabin Embarked  \\\n",
       "0    male  22.0      1      0         A/5 21171   7.2500   NaN        S   \n",
       "1  female  38.0      1      0          PC 17599  71.2833   C85        C   \n",
       "2  female  26.0      0      0  STON/O2. 3101282   7.9250   NaN        S   \n",
       "3  female  35.0      1      0            113803  53.1000  C123        S   \n",
       "4    male  35.0      0      0            373450   8.0500   NaN        S   \n",
       "\n",
       "   Survived  \n",
       "0         0  \n",
       "1         1  \n",
       "2         1  \n",
       "3         1  \n",
       "4         0  "
      ]
     },
     "execution_count": 2,
     "metadata": {},
     "output_type": "execute_result"
    }
   ],
   "source": [
    "file_to_load = \"titanic.csv\"\n",
    "titanic_df = pd.read_csv(file_to_load)\n",
    "titanic_df.head()"
   ]
  },
  {
   "cell_type": "markdown",
   "id": "d42e9e29-d256-448e-93e9-2b97202671cf",
   "metadata": {},
   "source": [
    "- Exploratory data analysis (EDA)"
   ]
  },
  {
   "cell_type": "code",
   "execution_count": 3,
   "id": "94dab368-e3f8-4b28-98d4-7596d2f5eb38",
   "metadata": {},
   "outputs": [
    {
     "name": "stderr",
     "output_type": "stream",
     "text": [
      "/Users/jackiepezan/opt/anaconda3/lib/python3.8/site-packages/seaborn/_decorators.py:36: FutureWarning: Pass the following variable as a keyword arg: x. From version 0.12, the only valid positional argument will be `data`, and passing other arguments without an explicit keyword will result in an error or misinterpretation.\n",
      "  warnings.warn(\n"
     ]
    },
    {
     "data": {
      "text/plain": [
       "Text(0, 0.5, 'Count')"
      ]
     },
     "execution_count": 3,
     "metadata": {},
     "output_type": "execute_result"
    },
    {
     "data": {
      "image/png": "[encoded data removed]",
      "text/plain": [
       "<Figure size 432x432 with 1 Axes>"
      ]
     },
     "metadata": {
      "needs_background": "light"
     },
     "output_type": "display_data"
    }
   ],
   "source": [
    "import seaborn as sns\n",
    "import matplotlib.pyplot as plt\n",
    "import numpy as np\n",
    "plt.figure(figsize=(6,6))\n",
    "sns.countplot(titanic_df['Survived'])\n",
    "plt.xlabel('Survived')\n",
    "plt.ylabel('Count')"
   ]
  },
  {
   "cell_type": "markdown",
   "id": "da9a2b41-647f-4724-918f-4a1f68304843",
   "metadata": {},
   "source": [
    "- Check the completeness of the data"
   ]
  },
  {
   "cell_type": "code",
   "execution_count": 4,
   "id": "a1a00259-4a5a-4f6f-a429-c678e45267ae",
   "metadata": {},
   "outputs": [
    {
     "data": {
      "text/plain": [
       "PassengerId      0\n",
       "Pclass           0\n",
       "Name             0\n",
       "Sex              0\n",
       "Age            177\n",
       "SibSp            0\n",
       "Parch            0\n",
       "Ticket           0\n",
       "Fare             0\n",
       "Cabin          687\n",
       "Embarked         2\n",
       "Survived         0\n",
       "dtype: int64"
      ]
     },
     "execution_count": 4,
     "metadata": {},
     "output_type": "execute_result"
    }
   ],
   "source": [
    "# Check for NaN values\n",
    "titanic_df.isnull().sum()"
   ]
  },
  {
   "cell_type": "markdown",
   "id": "41aaae6e-9cea-431b-b54e-981c0f8ced54",
   "metadata": {},
   "source": [
    "- Feature engineering"
   ]
  },
  {
   "cell_type": "markdown",
   "id": "996e450b-5b67-4f4a-bd44-c1e1e81143cf",
   "metadata": {},
   "source": [
    "#### Logistic Regression"
   ]
  },
  {
   "cell_type": "markdown",
   "id": "aa93733d-ede5-46dc-99ae-308ee63feca9",
   "metadata": {},
   "source": [
    "- Train-Test split (Feel free to choose the split)"
   ]
  },
  {
   "cell_type": "code",
   "execution_count": 13,
   "id": "e691dda7-0213-48d2-8daf-c0bf6fa7f787",
   "metadata": {},
   "outputs": [],
   "source": [
    "X = titanic_df.loc[:, ['Pclass','SibSp', 'Parch']]"
   ]
  },
  {
   "cell_type": "code",
   "execution_count": 6,
   "id": "454e6985-8f03-4ba5-8cc2-aa9cccd8210f",
   "metadata": {},
   "outputs": [],
   "source": [
    "y = titanic_df['Survived']"
   ]
  },
  {
   "cell_type": "code",
   "execution_count": 7,
   "id": "b5cbf038-269b-4cc0-b3e8-c32ab31c0ebb",
   "metadata": {},
   "outputs": [],
   "source": [
    "from sklearn.model_selection import train_test_split\n",
    "X_train, X_test, y_train, y_test = train_test_split(X, y, test_size=0.4, random_state=42)"
   ]
  },
  {
   "cell_type": "code",
   "execution_count": 8,
   "id": "b3edaa48-b357-414d-aeca-caa835e5cbc4",
   "metadata": {},
   "outputs": [],
   "source": [
    "from sklearn.preprocessing import StandardScaler\n",
    "scaler = StandardScaler()\n",
    "scaler.fit(X_train)\n",
    "X_train_scaled = scaler.transform(X_train)\n",
    "X_test_scaled = scaler.transform(X_test)"
   ]
  },
  {
   "cell_type": "code",
   "execution_count": 9,
   "id": "eb0f3fac-2ae2-4e67-8bb7-80f2bef1c0c4",
   "metadata": {},
   "outputs": [],
   "source": [
    "from sklearn.linear_model import LogisticRegression\n",
    "lr = LogisticRegression(random_state=42)\n",
    "lr.fit(X_train_scaled, y_train)\n",
    "y_pred_lr = lr.predict(X_test_scaled)"
   ]
  },
  {
   "cell_type": "code",
   "execution_count": 10,
   "id": "23a5f3a5-0b71-4ca6-aef2-cdc07888d0df",
   "metadata": {},
   "outputs": [],
   "source": [
    "from sklearn.metrics import confusion_matrix\n",
    "from sklearn.metrics import classification_report"
   ]
  },
  {
   "cell_type": "code",
   "execution_count": 11,
   "id": "08bb00cf-01a9-409e-8350-f49fb6a00ffe",
   "metadata": {},
   "outputs": [
    {
     "name": "stdout",
     "output_type": "stream",
     "text": [
      "\n",
      "Confusion Matrix for Logistic Regression Model:\n",
      "\n",
      " [[179  37]\n",
      " [ 68  73]]\n",
      "\n",
      "Classification Report for Logistic Regression Model:\n",
      "\n",
      "               precision    recall  f1-score   support\n",
      "\n",
      "           0       0.72      0.83      0.77       216\n",
      "           1       0.66      0.52      0.58       141\n",
      "\n",
      "    accuracy                           0.71       357\n",
      "   macro avg       0.69      0.67      0.68       357\n",
      "weighted avg       0.70      0.71      0.70       357\n",
      "\n"
     ]
    }
   ],
   "source": [
    "print(\"\\nConfusion Matrix for Logistic Regression Model:\\n\\n\", confusion_matrix(y_test, y_pred_lr))\n",
    "print(\"\\nClassification Report for Logistic Regression Model:\\n\\n\", classification_report(y_test, y_pred_lr))"
   ]
  },
  {
   "cell_type": "markdown",
   "id": "ab4295c2-4155-4c4b-958b-1218a3222c22",
   "metadata": {},
   "source": [
    "- Apply 3 supervised learning algorithms (You can apply more if you’re not satisfied with results)\n",
    "- Make sure you standardize the features before fitting the models"
   ]
  },
  {
   "cell_type": "markdown",
   "id": "8146ccb4-0661-4cce-b057-6e6bcc038af9",
   "metadata": {},
   "source": [
    "#### Random Forest"
   ]
  },
  {
   "cell_type": "code",
   "execution_count": 12,
   "id": "4b3af7a8-d51a-43c1-b974-453f678aa37d",
   "metadata": {},
   "outputs": [],
   "source": [
    "from sklearn.ensemble import RandomForestClassifier\n",
    "rf = RandomForestClassifier(random_state=42)\n",
    "rf.fit(X_train, y_train)\n",
    "y_pred_rf = rf.predict(X_test)"
   ]
  },
  {
   "cell_type": "code",
   "execution_count": 13,
   "id": "b57baabc-00d0-4130-ad22-2b2ab454b3ac",
   "metadata": {},
   "outputs": [
    {
     "name": "stdout",
     "output_type": "stream",
     "text": [
      "\n",
      "Confusion Matrix for Random Forest Model:\n",
      "\n",
      " [[173  43]\n",
      " [ 71  70]]\n",
      "\n",
      "Classification Report for Random Forest Model:\n",
      "\n",
      "               precision    recall  f1-score   support\n",
      "\n",
      "           0       0.71      0.80      0.75       216\n",
      "           1       0.62      0.50      0.55       141\n",
      "\n",
      "    accuracy                           0.68       357\n",
      "   macro avg       0.66      0.65      0.65       357\n",
      "weighted avg       0.67      0.68      0.67       357\n",
      "\n"
     ]
    }
   ],
   "source": [
    "print(\"\\nConfusion Matrix for Random Forest Model:\\n\\n\", confusion_matrix(y_test, y_pred_rf))\n",
    "print(\"\\nClassification Report for Random Forest Model:\\n\\n\", classification_report(y_test, y_pred_rf))"
   ]
  },
  {
   "cell_type": "markdown",
   "id": "571a859e-32e8-47ab-bd39-2dd3f751479e",
   "metadata": {},
   "source": [
    "#### Gradient Boost Classifier"
   ]
  },
  {
   "cell_type": "code",
   "execution_count": 21,
   "id": "1194efe2-01cd-4394-b4f5-352ddd07afbb",
   "metadata": {},
   "outputs": [],
   "source": [
    "from sklearn.ensemble import GradientBoostingClassifier\n",
    "gbc = GradientBoostingClassifier()\n",
    "gbc.fit(X_train, y_train)\n",
    "y_pred_gbc = lr.predict(X_test_scaled)"
   ]
  },
  {
   "cell_type": "code",
   "execution_count": 22,
   "id": "db9c3e61-4ea1-4bb5-948b-6b78e5df73ed",
   "metadata": {},
   "outputs": [
    {
     "name": "stdout",
     "output_type": "stream",
     "text": [
      "\n",
      "Confusion Matrix for Gradient Boosting Classifier:\n",
      "\n",
      " [[179  37]\n",
      " [ 68  73]]\n",
      "\n",
      "Classification Report for Gradient Boosting Classifier:\n",
      "\n",
      "               precision    recall  f1-score   support\n",
      "\n",
      "           0       0.72      0.83      0.77       216\n",
      "           1       0.66      0.52      0.58       141\n",
      "\n",
      "    accuracy                           0.71       357\n",
      "   macro avg       0.69      0.67      0.68       357\n",
      "weighted avg       0.70      0.71      0.70       357\n",
      "\n"
     ]
    }
   ],
   "source": [
    "print(\"\\nConfusion Matrix for Gradient Boosting Classifier:\\n\\n\", confusion_matrix(y_test, y_pred_gbc))\n",
    "print(\"\\nClassification Report for Gradient Boosting Classifier:\\n\\n\", classification_report(y_test, y_pred_gbc))"
   ]
  },
  {
   "cell_type": "markdown",
   "id": "eb790bed-645b-44f6-92c1-f8b797862533",
   "metadata": {},
   "source": [
    "#### Desicion Tree Classifier"
   ]
  },
  {
   "cell_type": "code",
   "execution_count": 23,
   "id": "676312b6-3ca9-4484-8c53-b3f99fe4cfc5",
   "metadata": {},
   "outputs": [],
   "source": [
    "from sklearn.tree import DecisionTreeClassifier\n",
    "dtc = GradientBoostingClassifier()\n",
    "dtc.fit(X_train, y_train)\n",
    "y_pred_dtc = lr.predict(X_test_scaled)"
   ]
  },
  {
   "cell_type": "code",
   "execution_count": 25,
   "id": "6472d92f-fa5e-4ae6-8d88-3c7a6b0570ed",
   "metadata": {},
   "outputs": [
    {
     "name": "stdout",
     "output_type": "stream",
     "text": [
      "\n",
      "Confusion Matrix for Desicion Tree Classifier:\n",
      "\n",
      " [[179  37]\n",
      " [ 68  73]]\n",
      "\n",
      "Classification Report for Desicion Tree Classifier:\n",
      "\n",
      "               precision    recall  f1-score   support\n",
      "\n",
      "           0       0.72      0.83      0.77       216\n",
      "           1       0.66      0.52      0.58       141\n",
      "\n",
      "    accuracy                           0.71       357\n",
      "   macro avg       0.69      0.67      0.68       357\n",
      "weighted avg       0.70      0.71      0.70       357\n",
      "\n"
     ]
    }
   ],
   "source": [
    "print(\"\\nConfusion Matrix for Desicion Tree Classifier:\\n\\n\", confusion_matrix(y_test, y_pred_dtc))\n",
    "print(\"\\nClassification Report for Desicion Tree Classifier:\\n\\n\", classification_report(y_test, y_pred_dtc))"
   ]
  },
  {
   "cell_type": "markdown",
   "id": "a1bab41d-4b77-490d-99e1-bc1f80185e6d",
   "metadata": {},
   "source": [
    "- Calculate 3 metrics to evaluate each of the classification algorithms: "
   ]
  },
  {
   "cell_type": "raw",
   "id": "005d93bb-ed47-4f08-8728-43ab4c9f49c1",
   "metadata": {},
   "source": [
    "Presicion, accuracy and recall will be considered as a metric in algorthim evaluation. Calculations completed above."
   ]
  },
  {
   "cell_type": "markdown",
   "id": "a1ba9fb1-f78c-49d9-b847-3ad2a2382c1d",
   "metadata": {},
   "source": [
    "- Which is your best performing model. Explain. "
   ]
  },
  {
   "cell_type": "raw",
   "id": "4a5fbd13-ec10-4aeb-882d-ef918fcd52ca",
   "metadata": {},
   "source": [
    "In general, logistic regression performs better when the number of \"noise\" variables is less than or equal to the number of explanatory variables and random forest has a higher true and false positive rate as the number of explanatory variables increases in a dataset. The same goes Gradient Boosting Classifier and Desicion Tree. "
   ]
  },
  {
   "cell_type": "markdown",
   "id": "2e20e6e8-c9b3-4681-90b6-b86c6925eb8a",
   "metadata": {},
   "source": [
    "- Approach for deploying the model into production (Theoretical)"
   ]
  },
  {
   "cell_type": "raw",
   "id": "e7dc4cf8-969c-4d3c-bf95-58b1d1c14125",
   "metadata": {},
   "source": [
    "In theory this model would need to include additional variables to increase presicion score. Further analysis of the data could prove to increase both the current accuracy and precision score. "
   ]
  }
 ],
 "metadata": {
  "kernelspec": {
   "display_name": "Python 3",
   "language": "python",
   "name": "python3"
  },
  "language_info": {
   "codemirror_mode": {
    "name": "ipython",
    "version": 3
   },
   "file_extension": ".py",
   "mimetype": "text/x-python",
   "name": "python",
   "nbconvert_exporter": "python",
   "pygments_lexer": "ipython3",
   "version": "3.8.8"
  }
 },
 "nbformat": 4,
 "nbformat_minor": 5
}
